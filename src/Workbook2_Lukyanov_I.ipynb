{
 "cells": [
  {
   "cell_type": "markdown",
   "source": [
    "**Пример 1.2.1**\n",
    "Создать массив 5х2. Создать массив 5х2. Вывести все занчения массива, значения элемента с индексом (3,1) и второй столбец. Индексация начинается с нуля. "
   ],
   "metadata": {
    "collapsed": false
   },
   "id": "4e189e01ff02a48d"
  },
  {
   "cell_type": "code",
   "execution_count": 6,
   "id": "initial_id",
   "metadata": {
    "collapsed": true,
    "ExecuteTime": {
     "end_time": "2024-02-26T11:34:16.527336400Z",
     "start_time": "2024-02-26T11:34:16.508674800Z"
    }
   },
   "outputs": [
    {
     "name": "stdout",
     "output_type": "stream",
     "text": [
      "[[ 1  2]\n",
      " [ 3  4]\n",
      " [ 5  6]\n",
      " [ 7  8]\n",
      " [ 9 10]]\n",
      "8\n",
      "[3 4]\n"
     ]
    }
   ],
   "source": [
    "import numpy as np\n",
    "\n",
    "x = np.array([[1, 2], [3, 4], [5, 6], [7, 8], [9, 10]])\n",
    "print(x)\n",
    "print(x[3][1])\n",
    "print(x[1])"
   ]
  },
  {
   "cell_type": "markdown",
   "source": [
    "**Пример 1.2.2** \n",
    "1. Создать вектор размера 10, заполненный единицами.\n",
    "2. Создать вектор размера 10, заполненный заданным числом.\n",
    "3. Создать вектор размера 10, заполненными заданным числом.\n",
    "4. Созданный вектор со значениями от 10 до 19"
   ],
   "metadata": {
    "collapsed": false
   },
   "id": "229932164ff16aed"
  },
  {
   "cell_type": "code",
   "execution_count": 7,
   "outputs": [
    {
     "name": "stdout",
     "output_type": "stream",
     "text": [
      "[0. 0. 0. 0. 0. 0. 0. 0. 0. 0.] \n",
      " [1. 1. 1. 1. 1. 1. 1. 1. 1. 1.] \n",
      " [5 5 5 5 5 5 5 5 5 5] \n",
      " [10 11 12 13 14 15 16 17 18 19]\n"
     ]
    }
   ],
   "source": [
    "a = np.zeros(10)\n",
    "b = np.ones(10)\n",
    "c = np.full(10, 5)\n",
    "d = np.arange(10, 20)\n",
    "print(a, \"\\n\", b, \"\\n\", c, \"\\n\", d)"
   ],
   "metadata": {
    "collapsed": false,
    "ExecuteTime": {
     "end_time": "2024-02-26T11:47:52.025340Z",
     "start_time": "2024-02-26T11:47:51.947222400Z"
    }
   },
   "id": "9a8f9a4a3c30af53"
  },
  {
   "cell_type": "markdown",
   "source": [
    "**Пример 1.2.3**\n",
    "Создать массив 10х10 со случайными значениями, найти минимум, максимум и среднее занчение."
   ],
   "metadata": {
    "collapsed": false
   },
   "id": "f30b401b79cd1b9d"
  },
  {
   "cell_type": "code",
   "execution_count": 10,
   "outputs": [
    {
     "name": "stdout",
     "output_type": "stream",
     "text": [
      "0.039672978004887005 0.9951399075834003 0.4894038368904278\n"
     ]
    }
   ],
   "source": [
    "Z = np.random.random((10, 10))\n",
    "Zmin, Zmax, Zmean = Z.min(), Z.max(), Z.mean()\n",
    "print(Zmin, Zmax, Zmean)"
   ],
   "metadata": {
    "collapsed": false,
    "ExecuteTime": {
     "end_time": "2024-03-03T20:16:19.684688600Z",
     "start_time": "2024-03-03T20:16:19.643585100Z"
    }
   },
   "id": "5ecca4d71e3ed42a"
  },
  {
   "cell_type": "markdown",
   "source": [
    "**Пример 1.2.4**\n",
    "Задание матрицу размерности 5 на 5 и поменять 2 строки в матрице местами. "
   ],
   "metadata": {
    "collapsed": false
   },
   "id": "a6f85f8dcad46c1d"
  },
  {
   "cell_type": "code",
   "execution_count": 12,
   "outputs": [
    {
     "name": "stdout",
     "output_type": "stream",
     "text": [
      "[[ 0  1  2  3  4]\n",
      " [ 5  6  7  8  9]\n",
      " [10 11 12 13 14]\n",
      " [15 16 17 18 19]\n",
      " [20 21 22 23 24]]\n",
      "[[ 5  6  7  8  9]\n",
      " [ 0  1  2  3  4]\n",
      " [10 11 12 13 14]\n",
      " [15 16 17 18 19]\n",
      " [20 21 22 23 24]]\n"
     ]
    }
   ],
   "source": [
    "A = np.arange(25).reshape(5, 5)\n",
    "print(A)\n",
    "A[[0, 1]] = A[[1, 0]]\n",
    "print(A)"
   ],
   "metadata": {
    "collapsed": false,
    "ExecuteTime": {
     "end_time": "2024-02-26T12:27:16.289410100Z",
     "start_time": "2024-02-26T12:27:16.242238700Z"
    }
   },
   "id": "ee8286adc9fb8c6b"
  },
  {
   "cell_type": "markdown",
   "source": [
    "**Пример 1.2.5**\n",
    "Выяснить результат следующих выражений:\n",
    "0 * np.nan\n",
    "np.nan == np.nan\n",
    "np.inf > np.nan\n",
    "np.nan - np.nan\n",
    "0.3 == 3 * 0.1"
   ],
   "metadata": {
    "collapsed": false
   },
   "id": "77c16469ef74148c"
  },
  {
   "cell_type": "code",
   "execution_count": 10,
   "outputs": [
    {
     "name": "stdout",
     "output_type": "stream",
     "text": [
      "nan\n",
      "False\n",
      "False\n",
      "nan\n",
      "False\n"
     ]
    }
   ],
   "source": [
    "print(0 * np.nan)\n",
    "print(np.nan == np.nan)\n",
    "print(np.inf > np.nan)\n",
    "print(np.nan - np.nan)\n",
    "print(0.3 == 3 * 0.1)"
   ],
   "metadata": {
    "collapsed": false,
    "ExecuteTime": {
     "end_time": "2024-02-26T12:15:24.923628500Z",
     "start_time": "2024-02-26T12:15:24.814251900Z"
    }
   },
   "id": "f9b4129cc9d01ab2"
  },
  {
   "cell_type": "markdown",
   "source": [
    "**Пример 1.2.6**\n",
    "Отсоритровать массив."
   ],
   "metadata": {
    "collapsed": false
   },
   "id": "42ef34fe80e295ec"
  },
  {
   "cell_type": "code",
   "execution_count": 11,
   "outputs": [
    {
     "name": "stdout",
     "output_type": "stream",
     "text": [
      "[1 2 3 4 5 6 7 8]\n"
     ]
    }
   ],
   "source": [
    "arr = np.array([2, 1, 5, 3, 7, 4, 6, 8])\n",
    "print(np.sort(arr))"
   ],
   "metadata": {
    "collapsed": false,
    "ExecuteTime": {
     "end_time": "2024-02-26T12:17:16.809057400Z",
     "start_time": "2024-02-26T12:17:16.746490700Z"
    }
   },
   "id": "cba6ad78e4be41a4"
  },
  {
   "cell_type": "markdown",
   "source": [
    "**Задание 1.3.1**\n",
    "Создать 8х8 матрицу и заполнить её в шахматном порядке нулями и единицами. "
   ],
   "metadata": {
    "collapsed": false
   },
   "id": "1727ddead08be49a"
  },
  {
   "cell_type": "code",
   "execution_count": 23,
   "outputs": [
    {
     "name": "stdout",
     "output_type": "stream",
     "text": [
      "[[0. 1. 0. 1. 0. 1. 0. 1.]\n",
      " [0. 1. 0. 1. 0. 1. 0. 1.]\n",
      " [0. 1. 0. 1. 0. 1. 0. 1.]\n",
      " [0. 1. 0. 1. 0. 1. 0. 1.]\n",
      " [0. 1. 0. 1. 0. 1. 0. 1.]\n",
      " [0. 1. 0. 1. 0. 1. 0. 1.]\n",
      " [0. 1. 0. 1. 0. 1. 0. 1.]\n",
      " [0. 1. 0. 1. 0. 1. 0. 1.]]\n"
     ]
    }
   ],
   "source": [
    "arr = np.zeros((8, 8))\n",
    "for i in range(0, 8):\n",
    "    for y in range(0, 8):\n",
    "        if y % 2 == 1:\n",
    "            arr[i][y] = 1\n",
    "        else:\n",
    "            arr[i][y] = 0\n",
    "print(arr)"
   ],
   "metadata": {
    "collapsed": false,
    "ExecuteTime": {
     "end_time": "2024-02-26T12:46:08.999955200Z",
     "start_time": "2024-02-26T12:46:08.984319700Z"
    }
   },
   "id": "968da20c22d00b46"
  },
  {
   "cell_type": "markdown",
   "source": [
    "**Задание 1.3.2** \n",
    "Создать 5х5 матрицу со значениями в строках от 0 до 4. \n",
    "Для создания необходимо использовать функцию arrange."
   ],
   "metadata": {
    "collapsed": false
   },
   "id": "a4e0b31c38f4feb3"
  },
  {
   "cell_type": "code",
   "execution_count": 11,
   "outputs": [
    {
     "name": "stdout",
     "output_type": "stream",
     "text": [
      "[[0 1 2 3 4]\n",
      " [0 1 2 3 4]\n",
      " [0 1 2 3 4]\n",
      " [0 1 2 3 4]\n",
      " [0 1 2 3 4]]\n"
     ]
    }
   ],
   "source": [
    "import numpy as np\n",
    "\n",
    "\n",
    "A = np.tile(np.arange(5), (5,1))\n",
    "print(A)"
   ],
   "metadata": {
    "collapsed": false,
    "ExecuteTime": {
     "end_time": "2024-03-03T14:01:02.927461600Z",
     "start_time": "2024-03-03T14:01:02.895750900Z"
    }
   },
   "id": "4ebcac3f3331a628"
  },
  {
   "cell_type": "markdown",
   "source": [
    "**Задание 1.3.3** \n",
    "Создать массив 3x3 со случайными значениями."
   ],
   "metadata": {
    "collapsed": false
   },
   "id": "477f276ea4a2d943"
  },
  {
   "cell_type": "code",
   "execution_count": 13,
   "outputs": [
    {
     "name": "stdout",
     "output_type": "stream",
     "text": [
      "[[0.62183789 0.5874527  0.83657497]\n",
      " [0.17165014 0.50154343 0.59494042]\n",
      " [0.41583437 0.03736301 0.56261075]]\n"
     ]
    }
   ],
   "source": [
    "import numpy as np\n",
    "\n",
    "\n",
    "arr = np.random.random((3, 3))     \n",
    "print(arr)"
   ],
   "metadata": {
    "collapsed": false,
    "ExecuteTime": {
     "end_time": "2024-03-03T20:17:03.238060200Z",
     "start_time": "2024-03-03T20:17:03.214905400Z"
    }
   },
   "id": "3d187a7ba1131f26"
  },
  {
   "cell_type": "markdown",
   "source": [
    "**Задание 1.3.4**\n",
    "Создать матрицу с 0 внутри, и 1 на границах."
   ],
   "metadata": {
    "collapsed": false
   },
   "id": "5a5b76c70894d719"
  },
  {
   "cell_type": "code",
   "execution_count": 15,
   "outputs": [
    {
     "name": "stdout",
     "output_type": "stream",
     "text": [
      "[[1. 1. 1. ... 1. 1. 1.]\n",
      " [1. 0. 0. ... 0. 0. 1.]\n",
      " [1. 0. 0. ... 0. 0. 1.]\n",
      " ...\n",
      " [1. 0. 0. ... 0. 0. 1.]\n",
      " [1. 0. 0. ... 0. 0. 1.]\n",
      " [1. 1. 1. ... 1. 1. 1.]]\n"
     ]
    }
   ],
   "source": [
    "import numpy as np\n",
    "\n",
    "\n",
    "def first_one(arr : list):\n",
    "    for i in range(0, 1):\n",
    "        for y in  range(0, len(arr)):\n",
    "            arr[i][y] = 1\n",
    "            \n",
    "    for i in range(len(arr) - 1, len(arr)):\n",
    "        for y in  range(0, len(arr)):\n",
    "            arr[i][y] = 1\n",
    "            \n",
    "    for i in range(0, len(arr)):\n",
    "        for y in  range(0, 1):\n",
    "            arr[i][y] = 1\n",
    "            \n",
    "    for i in range(0, len(arr)):\n",
    "        for y in  range(len(arr) - 1, len(arr)):\n",
    "            arr[i][y] = 1\n",
    "            \n",
    "    return arr\n",
    "\n",
    "def main(n : int) -> list:\n",
    "    arr = np.zeros((n, n))\n",
    "    first_one(arr)\n",
    "    return arr\n",
    "\n",
    "if __name__ == '__main__':\n",
    "    print(main(10000))\n"
   ],
   "metadata": {
    "collapsed": false,
    "ExecuteTime": {
     "end_time": "2024-03-06T19:20:34.104781700Z",
     "start_time": "2024-03-06T19:20:34.024520400Z"
    }
   },
   "id": "380caa1cf8b32169"
  },
  {
   "cell_type": "markdown",
   "source": [
    "**Задание 1.3.5**\n",
    "Создайте массив и отсортируйте его по убыванию."
   ],
   "metadata": {
    "collapsed": false
   },
   "id": "89da7c809fb3aca1"
  },
  {
   "cell_type": "code",
   "execution_count": 27,
   "outputs": [
    {
     "name": "stdout",
     "output_type": "stream",
     "text": [
      "[99, 94, 93, 91, 90, 89, 89, 89, 88, 88, 88, 87, 87, 86, 85, 85, 84, 83, 82, 81, 79, 79, 79, 78, 76, 76, 76, 76, 74, 73, 73, 72, 72, 71, 70, 70, 69, 68, 65, 65, 62, 61, 61, 61, 60, 60, 60, 59, 54, 54, 54, 54, 51, 49, 49, 49, 48, 43, 43, 43, 40, 39, 38, 37, 37, 36, 33, 32, 31, 30, 30, 29, 28, 28, 27, 26, 24, 24, 23, 22, 22, 21, 20, 19, 17, 17, 13, 12, 10, 10, 7, 7, 6, 6, 4, 4, 2, 1, 0, 0]\n"
     ]
    }
   ],
   "source": [
    "from random import randint\n",
    "from math import sqrt\n",
    "\n",
    "def SortedReverse(arr : list)->list:\n",
    "    for i in range(0, len(arr)):\n",
    "        for y in range((len(arr) - i - 1)):\n",
    "            if arr[y] < arr[y + 1]:\n",
    "                arr[y], arr[y+1] = arr[y+1], arr[y]\n",
    "    \n",
    "    return arr\n",
    "\n",
    "def CreateArray(n : int)->list:\n",
    "    arr = []\n",
    "    \n",
    "    for i in range(n):\n",
    "        s = randint(0, n)\n",
    "        arr.append(s)\n",
    "    \n",
    "    return arr\n",
    "\n",
    "if __name__ == '__main__':\n",
    "    print(SortedReverse(CreateArray(100)))"
   ],
   "metadata": {
    "collapsed": false,
    "ExecuteTime": {
     "end_time": "2024-03-06T19:46:09.953129300Z",
     "start_time": "2024-03-06T19:46:09.887984800Z"
    }
   },
   "id": "78d1491a8772ad1d"
  },
  {
   "cell_type": "markdown",
   "source": [
    "**Задание 1.3.6**\n",
    "Создайте матрицу, выведите форму, размер и размерность."
   ],
   "metadata": {
    "collapsed": false
   },
   "id": "c75bb125a9220334"
  },
  {
   "cell_type": "code",
   "execution_count": 29,
   "outputs": [
    {
     "name": "stdout",
     "output_type": "stream",
     "text": [
      "Форма матрицы: (3, 3)\n",
      "\n",
      "Размер матрицы: 9\n",
      "\n",
      "Размерность матрицы: 2\n"
     ]
    }
   ],
   "source": [
    "import numpy as np\n",
    "\n",
    "\n",
    "matrix = np.array([[1, 2, 3], [4, 5, 6], [7, 8, 9]])\n",
    "\n",
    "\n",
    "print(f\"Форма матрицы: {matrix.shape}\")\n",
    "\n",
    "print(f\"\\nРазмер матрицы: {matrix.size}\")\n",
    "\n",
    "print(f\"\\nРазмерность матрицы: {matrix.ndim}\")\n"
   ],
   "metadata": {
    "collapsed": false,
    "ExecuteTime": {
     "end_time": "2024-03-06T19:51:15.537682400Z",
     "start_time": "2024-03-06T19:51:15.512794800Z"
    }
   },
   "id": "37f8419399406446"
  },
  {
   "cell_type": "markdown",
   "source": [
    "**2.2.1 Пример**\n",
    "Создать Series из списка Python, словаря Python, и массива Numpy\n",
    "(установить буквенные метки для последнего)."
   ],
   "metadata": {
    "collapsed": false
   },
   "id": "f676b0dfb0c875bd"
  },
  {
   "cell_type": "code",
   "execution_count": 30,
   "outputs": [
    {
     "name": "stdout",
     "output_type": "stream",
     "text": [
      "0    1\n",
      "1    2\n",
      "2    3\n",
      "3    4\n",
      "4    5\n",
      "dtype: int64\n",
      "a    1\n",
      "b    2\n",
      "c    3\n",
      "dtype: int64\n",
      "a    1\n",
      "b    2\n",
      "c    3\n",
      "d    4\n",
      "e    5\n",
      "dtype: int32\n"
     ]
    }
   ],
   "source": [
    "import pandas as pd\n",
    "\n",
    "\n",
    "lst = [1, 2, 3, 4, 5]\n",
    "d = {'a' : 1, 'b' : 2, 'c' : 3}\n",
    "ndarr = np.array([1, 2, 3, 4, 5])\n",
    "\n",
    "s1 = pd.Series(lst)\n",
    "s2 = pd.Series(d)\n",
    "s3 = pd.Series(ndarr, ['a', 'b', 'c', 'd', 'e'])\n",
    "\n",
    "print(s1)\n",
    "print(s2)\n",
    "print(s3)"
   ],
   "metadata": {
    "collapsed": false,
    "ExecuteTime": {
     "end_time": "2024-03-06T19:59:46.227514300Z",
     "start_time": "2024-03-06T19:59:44.127222300Z"
    }
   },
   "id": "691c707f0db20a51"
  },
  {
   "cell_type": "markdown",
   "source": [
    "**2.2.2 Пример**\n",
    "Дано два Series. Напечатать их первые элементы и все элементы после третьего (во втором фрейме)."
   ],
   "metadata": {
    "collapsed": false
   },
   "id": "b8f594d769b39cb7"
  },
  {
   "cell_type": "code",
   "execution_count": 2,
   "outputs": [
    {
     "name": "stdout",
     "output_type": "stream",
     "text": [
      "1\n",
      "5\n",
      "3    2\n",
      "4    1\n",
      "dtype: int64\n"
     ]
    }
   ],
   "source": [
    "import pandas as pd\n",
    "\n",
    "\n",
    "s1 = pd.Series([1, 2, 3, 4, 5], ['a', 'b', 'c', 'd', 'e'])\n",
    "s2 = pd.Series([5, 4, 3, 2, 1])\n",
    "print(s1['a'])\n",
    "print(s2[0])\n",
    "print(s2[3:])"
   ],
   "metadata": {
    "collapsed": false,
    "ExecuteTime": {
     "end_time": "2024-03-09T18:17:23.460287400Z",
     "start_time": "2024-03-09T18:17:20.997395100Z"
    }
   },
   "id": "51f62a9d18c85093"
  },
  {
   "cell_type": "markdown",
   "source": [
    "**2.2.3 Пример**\n",
    "Создать новый фрейм данных."
   ],
   "metadata": {
    "collapsed": false
   },
   "id": "d8bbd54b5275346f"
  },
  {
   "cell_type": "code",
   "execution_count": 3,
   "outputs": [
    {
     "data": {
      "text/plain": "                Имя  Возраст  Водитель\n0     Джеки Джексон       38      True\n1  Стивен Стивенсон       25     False",
      "text/html": "<div>\n<style scoped>\n    .dataframe tbody tr th:only-of-type {\n        vertical-align: middle;\n    }\n\n    .dataframe tbody tr th {\n        vertical-align: top;\n    }\n\n    .dataframe thead th {\n        text-align: right;\n    }\n</style>\n<table border=\"1\" class=\"dataframe\">\n  <thead>\n    <tr style=\"text-align: right;\">\n      <th></th>\n      <th>Имя</th>\n      <th>Возраст</th>\n      <th>Водитель</th>\n    </tr>\n  </thead>\n  <tbody>\n    <tr>\n      <th>0</th>\n      <td>Джеки Джексон</td>\n      <td>38</td>\n      <td>True</td>\n    </tr>\n    <tr>\n      <th>1</th>\n      <td>Стивен Стивенсон</td>\n      <td>25</td>\n      <td>False</td>\n    </tr>\n  </tbody>\n</table>\n</div>"
     },
     "execution_count": 3,
     "metadata": {},
     "output_type": "execute_result"
    }
   ],
   "source": [
    "import pandas as pd\n",
    "\n",
    "\n",
    "dataframe = pd.DataFrame()\n",
    "dataframe['Имя'] = ['Джеки Джексон', 'Стивен Стивенсон']\n",
    "dataframe['Возраст'] = [38, 25]\n",
    "dataframe['Водитель'] = [True, False]\n",
    "dataframe\n"
   ],
   "metadata": {
    "collapsed": false,
    "ExecuteTime": {
     "end_time": "2024-03-09T18:21:33.568658300Z",
     "start_time": "2024-03-09T18:21:33.335524Z"
    }
   },
   "id": "469ce8f270879a38"
  },
  {
   "cell_type": "markdown",
   "source": [
    "**2.2.4 Пример**\n",
    "Загрузите фрейм данных по сслыке:"
   ],
   "metadata": {
    "collapsed": false
   },
   "id": "d1e10a15f4617439"
  },
  {
   "cell_type": "code",
   "execution_count": 13,
   "outputs": [
    {
     "data": {
      "text/plain": "   resultId  raceId  driverId  constructorId  number  grid  position  \\\n0         1      18         1              1    22.0     1       1.0   \n1         2      18         2              2     3.0     5       2.0   \n2         3      18         3              3     7.0     7       3.0   \n3         4      18         4              4     5.0    11       4.0   \n4         5      18         5              1    23.0     3       5.0   \n5         6      18         6              3     8.0    13       6.0   \n6         7      18         7              5    14.0    17       7.0   \n7         8      18         8              6     1.0    15       8.0   \n8         9      18         9              2     4.0     2       NaN   \n9        10      18        10              7    12.0    18       NaN   \n\n  positionText  positionOrder  points  laps     time  milliseconds  \\\n0            1              1    10.0    58  34:50.6     5690616.0   \n1            2              2     8.0    58    5.478     5696094.0   \n2            3              3     6.0    58    8.163     5698779.0   \n3            4              4     5.0    58   17.181     5707797.0   \n4            5              5     4.0    58   18.014     5708630.0   \n5            6              6     3.0    57      NaN           NaN   \n6            7              7     2.0    55      NaN           NaN   \n7            8              8     1.0    53      NaN           NaN   \n8            R              9     0.0    47      NaN           NaN   \n9            R             10     0.0    43      NaN           NaN   \n\n   fastestLap  rank fastestLapTime fastestLapSpeed  statusId  \n0        39.0   2.0        01:27.5           218.3         1  \n1        41.0   3.0        01:27.7         217.586         1  \n2        41.0   5.0        01:28.1         216.719         1  \n3        58.0   7.0        01:28.6         215.464         1  \n4        43.0   1.0        01:27.4         218.385         1  \n5        50.0  14.0        01:29.6         212.974        11  \n6        22.0  12.0        01:29.5         213.224         5  \n7        20.0   4.0        01:27.9          217.18         5  \n8        15.0   9.0        01:28.8           215.1         4  \n9        23.0  13.0        01:29.6         213.166         3  ",
      "text/html": "<div>\n<style scoped>\n    .dataframe tbody tr th:only-of-type {\n        vertical-align: middle;\n    }\n\n    .dataframe tbody tr th {\n        vertical-align: top;\n    }\n\n    .dataframe thead th {\n        text-align: right;\n    }\n</style>\n<table border=\"1\" class=\"dataframe\">\n  <thead>\n    <tr style=\"text-align: right;\">\n      <th></th>\n      <th>resultId</th>\n      <th>raceId</th>\n      <th>driverId</th>\n      <th>constructorId</th>\n      <th>number</th>\n      <th>grid</th>\n      <th>position</th>\n      <th>positionText</th>\n      <th>positionOrder</th>\n      <th>points</th>\n      <th>laps</th>\n      <th>time</th>\n      <th>milliseconds</th>\n      <th>fastestLap</th>\n      <th>rank</th>\n      <th>fastestLapTime</th>\n      <th>fastestLapSpeed</th>\n      <th>statusId</th>\n    </tr>\n  </thead>\n  <tbody>\n    <tr>\n      <th>0</th>\n      <td>1</td>\n      <td>18</td>\n      <td>1</td>\n      <td>1</td>\n      <td>22.0</td>\n      <td>1</td>\n      <td>1.0</td>\n      <td>1</td>\n      <td>1</td>\n      <td>10.0</td>\n      <td>58</td>\n      <td>34:50.6</td>\n      <td>5690616.0</td>\n      <td>39.0</td>\n      <td>2.0</td>\n      <td>01:27.5</td>\n      <td>218.3</td>\n      <td>1</td>\n    </tr>\n    <tr>\n      <th>1</th>\n      <td>2</td>\n      <td>18</td>\n      <td>2</td>\n      <td>2</td>\n      <td>3.0</td>\n      <td>5</td>\n      <td>2.0</td>\n      <td>2</td>\n      <td>2</td>\n      <td>8.0</td>\n      <td>58</td>\n      <td>5.478</td>\n      <td>5696094.0</td>\n      <td>41.0</td>\n      <td>3.0</td>\n      <td>01:27.7</td>\n      <td>217.586</td>\n      <td>1</td>\n    </tr>\n    <tr>\n      <th>2</th>\n      <td>3</td>\n      <td>18</td>\n      <td>3</td>\n      <td>3</td>\n      <td>7.0</td>\n      <td>7</td>\n      <td>3.0</td>\n      <td>3</td>\n      <td>3</td>\n      <td>6.0</td>\n      <td>58</td>\n      <td>8.163</td>\n      <td>5698779.0</td>\n      <td>41.0</td>\n      <td>5.0</td>\n      <td>01:28.1</td>\n      <td>216.719</td>\n      <td>1</td>\n    </tr>\n    <tr>\n      <th>3</th>\n      <td>4</td>\n      <td>18</td>\n      <td>4</td>\n      <td>4</td>\n      <td>5.0</td>\n      <td>11</td>\n      <td>4.0</td>\n      <td>4</td>\n      <td>4</td>\n      <td>5.0</td>\n      <td>58</td>\n      <td>17.181</td>\n      <td>5707797.0</td>\n      <td>58.0</td>\n      <td>7.0</td>\n      <td>01:28.6</td>\n      <td>215.464</td>\n      <td>1</td>\n    </tr>\n    <tr>\n      <th>4</th>\n      <td>5</td>\n      <td>18</td>\n      <td>5</td>\n      <td>1</td>\n      <td>23.0</td>\n      <td>3</td>\n      <td>5.0</td>\n      <td>5</td>\n      <td>5</td>\n      <td>4.0</td>\n      <td>58</td>\n      <td>18.014</td>\n      <td>5708630.0</td>\n      <td>43.0</td>\n      <td>1.0</td>\n      <td>01:27.4</td>\n      <td>218.385</td>\n      <td>1</td>\n    </tr>\n    <tr>\n      <th>5</th>\n      <td>6</td>\n      <td>18</td>\n      <td>6</td>\n      <td>3</td>\n      <td>8.0</td>\n      <td>13</td>\n      <td>6.0</td>\n      <td>6</td>\n      <td>6</td>\n      <td>3.0</td>\n      <td>57</td>\n      <td>NaN</td>\n      <td>NaN</td>\n      <td>50.0</td>\n      <td>14.0</td>\n      <td>01:29.6</td>\n      <td>212.974</td>\n      <td>11</td>\n    </tr>\n    <tr>\n      <th>6</th>\n      <td>7</td>\n      <td>18</td>\n      <td>7</td>\n      <td>5</td>\n      <td>14.0</td>\n      <td>17</td>\n      <td>7.0</td>\n      <td>7</td>\n      <td>7</td>\n      <td>2.0</td>\n      <td>55</td>\n      <td>NaN</td>\n      <td>NaN</td>\n      <td>22.0</td>\n      <td>12.0</td>\n      <td>01:29.5</td>\n      <td>213.224</td>\n      <td>5</td>\n    </tr>\n    <tr>\n      <th>7</th>\n      <td>8</td>\n      <td>18</td>\n      <td>8</td>\n      <td>6</td>\n      <td>1.0</td>\n      <td>15</td>\n      <td>8.0</td>\n      <td>8</td>\n      <td>8</td>\n      <td>1.0</td>\n      <td>53</td>\n      <td>NaN</td>\n      <td>NaN</td>\n      <td>20.0</td>\n      <td>4.0</td>\n      <td>01:27.9</td>\n      <td>217.18</td>\n      <td>5</td>\n    </tr>\n    <tr>\n      <th>8</th>\n      <td>9</td>\n      <td>18</td>\n      <td>9</td>\n      <td>2</td>\n      <td>4.0</td>\n      <td>2</td>\n      <td>NaN</td>\n      <td>R</td>\n      <td>9</td>\n      <td>0.0</td>\n      <td>47</td>\n      <td>NaN</td>\n      <td>NaN</td>\n      <td>15.0</td>\n      <td>9.0</td>\n      <td>01:28.8</td>\n      <td>215.1</td>\n      <td>4</td>\n    </tr>\n    <tr>\n      <th>9</th>\n      <td>10</td>\n      <td>18</td>\n      <td>10</td>\n      <td>7</td>\n      <td>12.0</td>\n      <td>18</td>\n      <td>NaN</td>\n      <td>R</td>\n      <td>10</td>\n      <td>0.0</td>\n      <td>43</td>\n      <td>NaN</td>\n      <td>NaN</td>\n      <td>23.0</td>\n      <td>13.0</td>\n      <td>01:29.6</td>\n      <td>213.166</td>\n      <td>3</td>\n    </tr>\n  </tbody>\n</table>\n</div>"
     },
     "execution_count": 13,
     "metadata": {},
     "output_type": "execute_result"
    }
   ],
   "source": [
    "import pandas as pd\n",
    "\n",
    "url = 'https://raw.githubusercontent.com/MainakRepositor/Datasets/master/F1/results.csv'\n",
    "    \n",
    "dataframe = pd.read_csv(url)\n",
    "dataframe.head(10)"
   ],
   "metadata": {
    "collapsed": false,
    "ExecuteTime": {
     "end_time": "2024-03-09T18:36:25.716668Z",
     "start_time": "2024-03-09T18:36:25.207335400Z"
    }
   },
   "id": "62eb5f6d80c82708"
  },
  {
   "cell_type": "markdown",
   "source": [
    "**2.2.5 Пример**\n",
    "Пронализировать характеристики фрейма данны"
   ],
   "metadata": {
    "collapsed": false
   },
   "id": "804cd3fc4855d57a"
  },
  {
   "cell_type": "code",
   "execution_count": 18,
   "outputs": [
    {
     "data": {
      "text/plain": "       resultId  raceId  driverId  constructorId  number  grid  position  \\\n23774     23779     988       840              3    18.0    15      18.0   \n23775     23780     988       832              4    55.0    12       NaN   \n23776     23781     988       817              9     3.0     4       NaN   \n\n      positionText  positionOrder  points  laps time  milliseconds  \\\n23774           18             18     0.0    54  NaN           NaN   \n23775            R             19     0.0    31  NaN           NaN   \n23776            R             20     0.0    20  NaN           NaN   \n\n       fastestLap  rank fastestLapTime fastestLapSpeed  statusId  \n23774        52.0   6.0        01:42.3         195.402        11  \n23775        26.0  14.0        01:43.4          193.41        36  \n23776        13.0  12.0        01:42.8         194.579         9  ",
      "text/html": "<div>\n<style scoped>\n    .dataframe tbody tr th:only-of-type {\n        vertical-align: middle;\n    }\n\n    .dataframe tbody tr th {\n        vertical-align: top;\n    }\n\n    .dataframe thead th {\n        text-align: right;\n    }\n</style>\n<table border=\"1\" class=\"dataframe\">\n  <thead>\n    <tr style=\"text-align: right;\">\n      <th></th>\n      <th>resultId</th>\n      <th>raceId</th>\n      <th>driverId</th>\n      <th>constructorId</th>\n      <th>number</th>\n      <th>grid</th>\n      <th>position</th>\n      <th>positionText</th>\n      <th>positionOrder</th>\n      <th>points</th>\n      <th>laps</th>\n      <th>time</th>\n      <th>milliseconds</th>\n      <th>fastestLap</th>\n      <th>rank</th>\n      <th>fastestLapTime</th>\n      <th>fastestLapSpeed</th>\n      <th>statusId</th>\n    </tr>\n  </thead>\n  <tbody>\n    <tr>\n      <th>23774</th>\n      <td>23779</td>\n      <td>988</td>\n      <td>840</td>\n      <td>3</td>\n      <td>18.0</td>\n      <td>15</td>\n      <td>18.0</td>\n      <td>18</td>\n      <td>18</td>\n      <td>0.0</td>\n      <td>54</td>\n      <td>NaN</td>\n      <td>NaN</td>\n      <td>52.0</td>\n      <td>6.0</td>\n      <td>01:42.3</td>\n      <td>195.402</td>\n      <td>11</td>\n    </tr>\n    <tr>\n      <th>23775</th>\n      <td>23780</td>\n      <td>988</td>\n      <td>832</td>\n      <td>4</td>\n      <td>55.0</td>\n      <td>12</td>\n      <td>NaN</td>\n      <td>R</td>\n      <td>19</td>\n      <td>0.0</td>\n      <td>31</td>\n      <td>NaN</td>\n      <td>NaN</td>\n      <td>26.0</td>\n      <td>14.0</td>\n      <td>01:43.4</td>\n      <td>193.41</td>\n      <td>36</td>\n    </tr>\n    <tr>\n      <th>23776</th>\n      <td>23781</td>\n      <td>988</td>\n      <td>817</td>\n      <td>9</td>\n      <td>3.0</td>\n      <td>4</td>\n      <td>NaN</td>\n      <td>R</td>\n      <td>20</td>\n      <td>0.0</td>\n      <td>20</td>\n      <td>NaN</td>\n      <td>NaN</td>\n      <td>13.0</td>\n      <td>12.0</td>\n      <td>01:42.8</td>\n      <td>194.579</td>\n      <td>9</td>\n    </tr>\n  </tbody>\n</table>\n</div>"
     },
     "execution_count": 18,
     "metadata": {},
     "output_type": "execute_result"
    }
   ],
   "source": [
    "import pandas as pd\n",
    "\n",
    "\n",
    "url = 'https://raw.githubusercontent.com/MainakRepositor/Datasets/master/F1/results.csv'\n",
    "    \n",
    "dataframe = pd.read_csv(url)\n",
    "# dataframe.head(2)\n",
    "dataframe.tail(3)\n",
    "# dataframe.shape\n",
    "# dataframe.describe()"
   ],
   "metadata": {
    "collapsed": false,
    "ExecuteTime": {
     "end_time": "2024-03-09T18:41:43.583807400Z",
     "start_time": "2024-03-09T18:41:43.264385200Z"
    }
   },
   "id": "99646300f58ddc28"
  },
  {
   "cell_type": "markdown",
   "source": [
    "**2.6.6 Пример**\n",
    "Выберите индивидуальные данные или срезы фрейма данных"
   ],
   "metadata": {
    "collapsed": false
   },
   "id": "1ea1471044da89f"
  },
  {
   "cell_type": "code",
   "execution_count": 19,
   "outputs": [
    {
     "data": {
      "text/plain": "   resultId  raceId  driverId  constructorId  number  grid  position  \\\n1         2      18         2              2     3.0     5       2.0   \n2         3      18         3              3     7.0     7       3.0   \n3         4      18         4              4     5.0    11       4.0   \n\n  positionText  positionOrder  points  laps    time  milliseconds  fastestLap  \\\n1            2              2     8.0    58   5.478     5696094.0        41.0   \n2            3              3     6.0    58   8.163     5698779.0        41.0   \n3            4              4     5.0    58  17.181     5707797.0        58.0   \n\n   rank fastestLapTime fastestLapSpeed  statusId  \n1   3.0        01:27.7         217.586         1  \n2   5.0        01:28.1         216.719         1  \n3   7.0        01:28.6         215.464         1  ",
      "text/html": "<div>\n<style scoped>\n    .dataframe tbody tr th:only-of-type {\n        vertical-align: middle;\n    }\n\n    .dataframe tbody tr th {\n        vertical-align: top;\n    }\n\n    .dataframe thead th {\n        text-align: right;\n    }\n</style>\n<table border=\"1\" class=\"dataframe\">\n  <thead>\n    <tr style=\"text-align: right;\">\n      <th></th>\n      <th>resultId</th>\n      <th>raceId</th>\n      <th>driverId</th>\n      <th>constructorId</th>\n      <th>number</th>\n      <th>grid</th>\n      <th>position</th>\n      <th>positionText</th>\n      <th>positionOrder</th>\n      <th>points</th>\n      <th>laps</th>\n      <th>time</th>\n      <th>milliseconds</th>\n      <th>fastestLap</th>\n      <th>rank</th>\n      <th>fastestLapTime</th>\n      <th>fastestLapSpeed</th>\n      <th>statusId</th>\n    </tr>\n  </thead>\n  <tbody>\n    <tr>\n      <th>1</th>\n      <td>2</td>\n      <td>18</td>\n      <td>2</td>\n      <td>2</td>\n      <td>3.0</td>\n      <td>5</td>\n      <td>2.0</td>\n      <td>2</td>\n      <td>2</td>\n      <td>8.0</td>\n      <td>58</td>\n      <td>5.478</td>\n      <td>5696094.0</td>\n      <td>41.0</td>\n      <td>3.0</td>\n      <td>01:27.7</td>\n      <td>217.586</td>\n      <td>1</td>\n    </tr>\n    <tr>\n      <th>2</th>\n      <td>3</td>\n      <td>18</td>\n      <td>3</td>\n      <td>3</td>\n      <td>7.0</td>\n      <td>7</td>\n      <td>3.0</td>\n      <td>3</td>\n      <td>3</td>\n      <td>6.0</td>\n      <td>58</td>\n      <td>8.163</td>\n      <td>5698779.0</td>\n      <td>41.0</td>\n      <td>5.0</td>\n      <td>01:28.1</td>\n      <td>216.719</td>\n      <td>1</td>\n    </tr>\n    <tr>\n      <th>3</th>\n      <td>4</td>\n      <td>18</td>\n      <td>4</td>\n      <td>4</td>\n      <td>5.0</td>\n      <td>11</td>\n      <td>4.0</td>\n      <td>4</td>\n      <td>4</td>\n      <td>5.0</td>\n      <td>58</td>\n      <td>17.181</td>\n      <td>5707797.0</td>\n      <td>58.0</td>\n      <td>7.0</td>\n      <td>01:28.6</td>\n      <td>215.464</td>\n      <td>1</td>\n    </tr>\n  </tbody>\n</table>\n</div>"
     },
     "execution_count": 19,
     "metadata": {},
     "output_type": "execute_result"
    }
   ],
   "source": [
    "import pandas as pd\n",
    "\n",
    "\n",
    "url = 'https://raw.githubusercontent.com/MainakRepositor/Datasets/master/F1/results.csv'\n",
    "    \n",
    "dataframe = pd.read_csv(url)\n",
    "dataframe.iloc[1:4]"
   ],
   "metadata": {
    "collapsed": false,
    "ExecuteTime": {
     "end_time": "2024-03-09T18:43:27.946916500Z",
     "start_time": "2024-03-09T18:43:27.589290700Z"
    }
   },
   "id": "7a6eedb2024b101e"
  },
  {
   "cell_type": "markdown",
   "source": [
    "**2.2.7 Пример**\n",
    "Требуется отобрать строки фрейма данных на основе некоторого \n",
    "условия. Необходимо сформировать новый фрейм данных из пассажиров \n",
    "первого класса."
   ],
   "metadata": {
    "collapsed": false
   },
   "id": "7929b617aa393217"
  },
  {
   "cell_type": "code",
   "execution_count": 21,
   "outputs": [
    {
     "data": {
      "text/plain": "    resultId  raceId  driverId  constructorId  number  grid  position  \\\n1          2      18         2              2     3.0     5       2.0   \n8          9      18         9              2     4.0     2       NaN   \n23        24      19         9              2     4.0     4       2.0   \n27        28      19         2              2     3.0     5       6.0   \n46        47      20         9              2     4.0     1       3.0   \n\n   positionText  positionOrder  points  laps    time  milliseconds  \\\n1             2              2     8.0    58   5.478     5696094.0   \n8             R              9     0.0    47     NaN           NaN   \n23            2              2     8.0    56   19.57     5498125.0   \n27            6              6     3.0    56  49.833     5528388.0   \n46            3              3     6.0    57   4.998     5471968.0   \n\n    fastestLap  rank fastestLapTime fastestLapSpeed  statusId  \n1         41.0   3.0        01:27.7         217.586         1  \n8         15.0   9.0        01:28.8           215.1         4  \n23        39.0   6.0        01:35.9         208.033         1  \n27        55.0   1.0        01:35.4         209.244         1  \n46        55.0   5.0        01:33.8         207.765         1  ",
      "text/html": "<div>\n<style scoped>\n    .dataframe tbody tr th:only-of-type {\n        vertical-align: middle;\n    }\n\n    .dataframe tbody tr th {\n        vertical-align: top;\n    }\n\n    .dataframe thead th {\n        text-align: right;\n    }\n</style>\n<table border=\"1\" class=\"dataframe\">\n  <thead>\n    <tr style=\"text-align: right;\">\n      <th></th>\n      <th>resultId</th>\n      <th>raceId</th>\n      <th>driverId</th>\n      <th>constructorId</th>\n      <th>number</th>\n      <th>grid</th>\n      <th>position</th>\n      <th>positionText</th>\n      <th>positionOrder</th>\n      <th>points</th>\n      <th>laps</th>\n      <th>time</th>\n      <th>milliseconds</th>\n      <th>fastestLap</th>\n      <th>rank</th>\n      <th>fastestLapTime</th>\n      <th>fastestLapSpeed</th>\n      <th>statusId</th>\n    </tr>\n  </thead>\n  <tbody>\n    <tr>\n      <th>1</th>\n      <td>2</td>\n      <td>18</td>\n      <td>2</td>\n      <td>2</td>\n      <td>3.0</td>\n      <td>5</td>\n      <td>2.0</td>\n      <td>2</td>\n      <td>2</td>\n      <td>8.0</td>\n      <td>58</td>\n      <td>5.478</td>\n      <td>5696094.0</td>\n      <td>41.0</td>\n      <td>3.0</td>\n      <td>01:27.7</td>\n      <td>217.586</td>\n      <td>1</td>\n    </tr>\n    <tr>\n      <th>8</th>\n      <td>9</td>\n      <td>18</td>\n      <td>9</td>\n      <td>2</td>\n      <td>4.0</td>\n      <td>2</td>\n      <td>NaN</td>\n      <td>R</td>\n      <td>9</td>\n      <td>0.0</td>\n      <td>47</td>\n      <td>NaN</td>\n      <td>NaN</td>\n      <td>15.0</td>\n      <td>9.0</td>\n      <td>01:28.8</td>\n      <td>215.1</td>\n      <td>4</td>\n    </tr>\n    <tr>\n      <th>23</th>\n      <td>24</td>\n      <td>19</td>\n      <td>9</td>\n      <td>2</td>\n      <td>4.0</td>\n      <td>4</td>\n      <td>2.0</td>\n      <td>2</td>\n      <td>2</td>\n      <td>8.0</td>\n      <td>56</td>\n      <td>19.57</td>\n      <td>5498125.0</td>\n      <td>39.0</td>\n      <td>6.0</td>\n      <td>01:35.9</td>\n      <td>208.033</td>\n      <td>1</td>\n    </tr>\n    <tr>\n      <th>27</th>\n      <td>28</td>\n      <td>19</td>\n      <td>2</td>\n      <td>2</td>\n      <td>3.0</td>\n      <td>5</td>\n      <td>6.0</td>\n      <td>6</td>\n      <td>6</td>\n      <td>3.0</td>\n      <td>56</td>\n      <td>49.833</td>\n      <td>5528388.0</td>\n      <td>55.0</td>\n      <td>1.0</td>\n      <td>01:35.4</td>\n      <td>209.244</td>\n      <td>1</td>\n    </tr>\n    <tr>\n      <th>46</th>\n      <td>47</td>\n      <td>20</td>\n      <td>9</td>\n      <td>2</td>\n      <td>4.0</td>\n      <td>1</td>\n      <td>3.0</td>\n      <td>3</td>\n      <td>3</td>\n      <td>6.0</td>\n      <td>57</td>\n      <td>4.998</td>\n      <td>5471968.0</td>\n      <td>55.0</td>\n      <td>5.0</td>\n      <td>01:33.8</td>\n      <td>207.765</td>\n      <td>1</td>\n    </tr>\n  </tbody>\n</table>\n</div>"
     },
     "execution_count": 21,
     "metadata": {},
     "output_type": "execute_result"
    }
   ],
   "source": [
    "import pandas as pd\n",
    "\n",
    "\n",
    "url = 'https://raw.githubusercontent.com/MainakRepositor/Datasets/master/F1/results.csv'\n",
    "    \n",
    "dataframe = pd.read_csv(url)\n",
    "dataframe[dataframe['constructorId'] == 2].head(5)"
   ],
   "metadata": {
    "collapsed": false,
    "ExecuteTime": {
     "end_time": "2024-03-09T18:45:37.413802600Z",
     "start_time": "2024-03-09T18:45:36.954218700Z"
    }
   },
   "id": "1f99cded02305b01"
  },
  {
   "cell_type": "markdown",
   "source": [
    "**2.3.1 Задание**\n",
    "Найдите евклидово расстояние между двумя Series (точками) a и b, не используя встроенную формулу."
   ],
   "metadata": {
    "collapsed": false
   },
   "id": "652fbc267604f984"
  },
  {
   "cell_type": "code",
   "execution_count": 26,
   "outputs": [
    {
     "name": "stdout",
     "output_type": "stream",
     "text": [
      "Евклидово расстояние между точками (2, 4) и (5, 8) равно 5.0\n"
     ]
    }
   ],
   "source": [
    "import math\n",
    "\n",
    "\n",
    "def euclidean_distance(a, b):\n",
    "    x1, y1 = a\n",
    "    x2, y2 = b\n",
    "    return math.sqrt((x1 - x2)**2 + (y1 - y2)**2)\n",
    "\n",
    "a = (2, 4)\n",
    "b = (5, 8)\n",
    "\n",
    "distance = euclidean_distance(a, b)\n",
    "\n",
    "print(f\"Евклидово расстояние между точками {a} и {b} равно {distance}\")"
   ],
   "metadata": {
    "collapsed": false,
    "ExecuteTime": {
     "end_time": "2024-03-09T18:51:15.842146Z",
     "start_time": "2024-03-09T18:51:15.769322300Z"
    }
   },
   "id": "aafa85c438fefcd7"
  },
  {
   "cell_type": "markdown",
   "source": [
    "**2.3.2 Задание**\n",
    "Найдите в Интернете ссылку на любой csv файл и сформируйте из него \n",
    "фрейм данных (например, коллекцию фреймов данных можно найти \n",
    "здесь: https://github.com/akmand/datasets)"
   ],
   "metadata": {
    "collapsed": false
   },
   "id": "3f9071d3a1ef7a45"
  },
  {
   "cell_type": "code",
   "execution_count": 35,
   "outputs": [
    {
     "data": {
      "text/plain": "   qualifyId  raceId  driverId  constructorId  number  position        q1  \\\n0          1      18         1              1      22         1  1:26.572   \n1          2      18         9              2       4         2  1:26.103   \n2          3      18         5              1      23         3  1:25.664   \n3          4      18        13              6       2         4  1:25.994   \n4          5      18         2              2       3         5  1:25.960   \n5          6      18        15              7      11         6  1:26.427   \n6          7      18         3              3       7         7  1:26.295   \n7          8      18        14              9       9         8  1:26.381   \n8          9      18        10              7      12         9  1:26.919   \n9         10      18        20              5      15        10  1:26.702   \n\n         q2        q3  \n0  1:25.187  1:26.714  \n1  1:25.315  1:26.869  \n2  1:25.452  1:27.079  \n3  1:25.691  1:27.178  \n4  1:25.518  1:27.236  \n5  1:26.101  1:28.527  \n6  1:26.059  1:28.687  \n7  1:26.063  1:29.041  \n8  1:26.164  1:29.593  \n9  1:25.842       NaN  ",
      "text/html": "<div>\n<style scoped>\n    .dataframe tbody tr th:only-of-type {\n        vertical-align: middle;\n    }\n\n    .dataframe tbody tr th {\n        vertical-align: top;\n    }\n\n    .dataframe thead th {\n        text-align: right;\n    }\n</style>\n<table border=\"1\" class=\"dataframe\">\n  <thead>\n    <tr style=\"text-align: right;\">\n      <th></th>\n      <th>qualifyId</th>\n      <th>raceId</th>\n      <th>driverId</th>\n      <th>constructorId</th>\n      <th>number</th>\n      <th>position</th>\n      <th>q1</th>\n      <th>q2</th>\n      <th>q3</th>\n    </tr>\n  </thead>\n  <tbody>\n    <tr>\n      <th>0</th>\n      <td>1</td>\n      <td>18</td>\n      <td>1</td>\n      <td>1</td>\n      <td>22</td>\n      <td>1</td>\n      <td>1:26.572</td>\n      <td>1:25.187</td>\n      <td>1:26.714</td>\n    </tr>\n    <tr>\n      <th>1</th>\n      <td>2</td>\n      <td>18</td>\n      <td>9</td>\n      <td>2</td>\n      <td>4</td>\n      <td>2</td>\n      <td>1:26.103</td>\n      <td>1:25.315</td>\n      <td>1:26.869</td>\n    </tr>\n    <tr>\n      <th>2</th>\n      <td>3</td>\n      <td>18</td>\n      <td>5</td>\n      <td>1</td>\n      <td>23</td>\n      <td>3</td>\n      <td>1:25.664</td>\n      <td>1:25.452</td>\n      <td>1:27.079</td>\n    </tr>\n    <tr>\n      <th>3</th>\n      <td>4</td>\n      <td>18</td>\n      <td>13</td>\n      <td>6</td>\n      <td>2</td>\n      <td>4</td>\n      <td>1:25.994</td>\n      <td>1:25.691</td>\n      <td>1:27.178</td>\n    </tr>\n    <tr>\n      <th>4</th>\n      <td>5</td>\n      <td>18</td>\n      <td>2</td>\n      <td>2</td>\n      <td>3</td>\n      <td>5</td>\n      <td>1:25.960</td>\n      <td>1:25.518</td>\n      <td>1:27.236</td>\n    </tr>\n    <tr>\n      <th>5</th>\n      <td>6</td>\n      <td>18</td>\n      <td>15</td>\n      <td>7</td>\n      <td>11</td>\n      <td>6</td>\n      <td>1:26.427</td>\n      <td>1:26.101</td>\n      <td>1:28.527</td>\n    </tr>\n    <tr>\n      <th>6</th>\n      <td>7</td>\n      <td>18</td>\n      <td>3</td>\n      <td>3</td>\n      <td>7</td>\n      <td>7</td>\n      <td>1:26.295</td>\n      <td>1:26.059</td>\n      <td>1:28.687</td>\n    </tr>\n    <tr>\n      <th>7</th>\n      <td>8</td>\n      <td>18</td>\n      <td>14</td>\n      <td>9</td>\n      <td>9</td>\n      <td>8</td>\n      <td>1:26.381</td>\n      <td>1:26.063</td>\n      <td>1:29.041</td>\n    </tr>\n    <tr>\n      <th>8</th>\n      <td>9</td>\n      <td>18</td>\n      <td>10</td>\n      <td>7</td>\n      <td>12</td>\n      <td>9</td>\n      <td>1:26.919</td>\n      <td>1:26.164</td>\n      <td>1:29.593</td>\n    </tr>\n    <tr>\n      <th>9</th>\n      <td>10</td>\n      <td>18</td>\n      <td>20</td>\n      <td>5</td>\n      <td>15</td>\n      <td>10</td>\n      <td>1:26.702</td>\n      <td>1:25.842</td>\n      <td>NaN</td>\n    </tr>\n  </tbody>\n</table>\n</div>"
     },
     "execution_count": 35,
     "metadata": {},
     "output_type": "execute_result"
    }
   ],
   "source": [
    "import pandas as pd\n",
    "\n",
    "\n",
    "url = 'https://raw.githubusercontent.com/MainakRepositor/Datasets/master/F1/qualifying.csv'\n",
    "\n",
    "dataframe = pd.read_csv(url)\n",
    "dataframe.head(10)\n"
   ],
   "metadata": {
    "collapsed": false,
    "ExecuteTime": {
     "end_time": "2024-03-09T19:03:12.582880500Z",
     "start_time": "2024-03-09T19:03:12.361097100Z"
    }
   },
   "id": "b63541f040a9bbde"
  },
  {
   "cell_type": "markdown",
   "source": [
    "**2.3.3 Задание**\n",
    "Проделайте с получившемся из предыдущего задания фреймом данных \n",
    "те же действия, что и в примерах 2.2.5-2.2.7"
   ],
   "metadata": {
    "collapsed": false
   },
   "id": "de50d36f9a720e28"
  },
  {
   "cell_type": "code",
   "execution_count": 41,
   "outputs": [
    {
     "data": {
      "text/plain": "      qualifyId  raceId  driverId  constructorId  number  position        q1  \\\n7513       7537     988       836             15      94        18  1:39.930   \n7514       7538     988       828             15       9        19  1:39.994   \n7515       7539     988       843              5      28        20  1:40.471   \n\n       q2   q3  \n7513  NaN  NaN  \n7514  NaN  NaN  \n7515  NaN  NaN  ",
      "text/html": "<div>\n<style scoped>\n    .dataframe tbody tr th:only-of-type {\n        vertical-align: middle;\n    }\n\n    .dataframe tbody tr th {\n        vertical-align: top;\n    }\n\n    .dataframe thead th {\n        text-align: right;\n    }\n</style>\n<table border=\"1\" class=\"dataframe\">\n  <thead>\n    <tr style=\"text-align: right;\">\n      <th></th>\n      <th>qualifyId</th>\n      <th>raceId</th>\n      <th>driverId</th>\n      <th>constructorId</th>\n      <th>number</th>\n      <th>position</th>\n      <th>q1</th>\n      <th>q2</th>\n      <th>q3</th>\n    </tr>\n  </thead>\n  <tbody>\n    <tr>\n      <th>7513</th>\n      <td>7537</td>\n      <td>988</td>\n      <td>836</td>\n      <td>15</td>\n      <td>94</td>\n      <td>18</td>\n      <td>1:39.930</td>\n      <td>NaN</td>\n      <td>NaN</td>\n    </tr>\n    <tr>\n      <th>7514</th>\n      <td>7538</td>\n      <td>988</td>\n      <td>828</td>\n      <td>15</td>\n      <td>9</td>\n      <td>19</td>\n      <td>1:39.994</td>\n      <td>NaN</td>\n      <td>NaN</td>\n    </tr>\n    <tr>\n      <th>7515</th>\n      <td>7539</td>\n      <td>988</td>\n      <td>843</td>\n      <td>5</td>\n      <td>28</td>\n      <td>20</td>\n      <td>1:40.471</td>\n      <td>NaN</td>\n      <td>NaN</td>\n    </tr>\n  </tbody>\n</table>\n</div>"
     },
     "execution_count": 41,
     "metadata": {},
     "output_type": "execute_result"
    }
   ],
   "source": [
    "import pandas as pd\n",
    "\n",
    "\n",
    "url = 'https://raw.githubusercontent.com/MainakRepositor/Datasets/master/F1/qualifying.csv'\n",
    "\n",
    "dataframe = pd.read_csv(url)\n",
    "# dataframe.head(2)\n",
    "# dataframe.tail(3)\n",
    "# dataframe.shape\n",
    "# dataframe.describe()\n",
    "# dataframe.iloc[1:4]\n",
    "dataframe[dataframe['raceId'] == 10].head(5)"
   ],
   "metadata": {
    "collapsed": false,
    "ExecuteTime": {
     "end_time": "2024-03-09T19:07:30.489431600Z",
     "start_time": "2024-03-09T19:07:30.284524600Z"
    }
   },
   "id": "d371baa58c0948ce"
  },
  {
   "cell_type": "markdown",
   "source": [
    "**3.2.1 Пример**\n",
    "Прошкалируйте числовой признак в диапазон между двумя значениями"
   ],
   "metadata": {
    "collapsed": false
   },
   "id": "50b77f48c28164ac"
  },
  {
   "cell_type": "code",
   "execution_count": 43,
   "outputs": [
    {
     "data": {
      "text/plain": "array([[0.        ],\n       [0.28571429],\n       [0.42857143],\n       [1.        ]])"
     },
     "execution_count": 43,
     "metadata": {},
     "output_type": "execute_result"
    }
   ],
   "source": [
    "import numpy as np\n",
    "from sklearn import preprocessing\n",
    "\n",
    "\n",
    "feature = np.array([[-500.5], [-100.1], [100.1], [900.9]])\n",
    "\n",
    "minmax_scale = preprocessing.MinMaxScaler(feature_range = (0, 1))\n",
    "\n",
    "scaled_feature = minmax_scale.fit_transform(feature)\n",
    "\n",
    "scaled_feature"
   ],
   "metadata": {
    "collapsed": false,
    "ExecuteTime": {
     "end_time": "2024-03-09T19:57:29.183410500Z",
     "start_time": "2024-03-09T19:57:27.854539100Z"
    }
   },
   "id": "1d3ae5d4098f00d8"
  },
  {
   "cell_type": "markdown",
   "source": [
    "**3.2.2 Пример**\n",
    "Преобразуйте признак, чтобы он имел среднее значение 0 и стандартное \n",
    "отклонение 1."
   ],
   "metadata": {
    "collapsed": false
   },
   "id": "5cbc16707a2b9c16"
  },
  {
   "cell_type": "code",
   "execution_count": 45,
   "outputs": [
    {
     "name": "stdout",
     "output_type": "stream",
     "text": [
      "Среднее: 0\n",
      "Стандартное отклонение: 1.0\n"
     ]
    }
   ],
   "source": [
    "import numpy as np\n",
    "from sklearn import preprocessing\n",
    "\n",
    "\n",
    "x = np.array([[-1000.1], [-200.2], [500.5], [600.6], [9000.9]])\n",
    "\n",
    "scaler = preprocessing.StandardScaler()\n",
    "\n",
    "standardized = scaler.fit_transform(x)\n",
    "\n",
    "standardized\n",
    "\n",
    "print(f\"Среднее: {round(standardized.mean())}\")\n",
    "print(f\"Стандартное отклонение: {standardized.std()}\")"
   ],
   "metadata": {
    "collapsed": false,
    "ExecuteTime": {
     "end_time": "2024-03-09T20:01:58.692362400Z",
     "start_time": "2024-03-09T20:01:58.664679600Z"
    }
   },
   "id": "a6f79fd50e374914"
  },
  {
   "cell_type": "markdown",
   "source": [
    "**3.2.2 Пример**\n",
    "Дан фрейм данных \n",
    "dfTest = pd.DataFrame({'A':[14.00,90.20,90.95,96.27,91.21],\n",
    " 'B':[103.02,107.26,110.35,114.23,114.68],\n",
    " 'C':['big','small','big','small','small']})\n",
    "Необходимо масштабировать его числовые столбцы."
   ],
   "metadata": {
    "collapsed": false
   },
   "id": "cc2855c91c80c56d"
  },
  {
   "cell_type": "code",
   "execution_count": 46,
   "outputs": [
    {
     "data": {
      "text/plain": "          A         B      C\n0  0.000000  0.000000    big\n1  0.926219  0.363636  small\n2  0.935335  0.628645    big\n3  1.000000  0.961407  small\n4  0.938495  1.000000  small",
      "text/html": "<div>\n<style scoped>\n    .dataframe tbody tr th:only-of-type {\n        vertical-align: middle;\n    }\n\n    .dataframe tbody tr th {\n        vertical-align: top;\n    }\n\n    .dataframe thead th {\n        text-align: right;\n    }\n</style>\n<table border=\"1\" class=\"dataframe\">\n  <thead>\n    <tr style=\"text-align: right;\">\n      <th></th>\n      <th>A</th>\n      <th>B</th>\n      <th>C</th>\n    </tr>\n  </thead>\n  <tbody>\n    <tr>\n      <th>0</th>\n      <td>0.000000</td>\n      <td>0.000000</td>\n      <td>big</td>\n    </tr>\n    <tr>\n      <th>1</th>\n      <td>0.926219</td>\n      <td>0.363636</td>\n      <td>small</td>\n    </tr>\n    <tr>\n      <th>2</th>\n      <td>0.935335</td>\n      <td>0.628645</td>\n      <td>big</td>\n    </tr>\n    <tr>\n      <th>3</th>\n      <td>1.000000</td>\n      <td>0.961407</td>\n      <td>small</td>\n    </tr>\n    <tr>\n      <th>4</th>\n      <td>0.938495</td>\n      <td>1.000000</td>\n      <td>small</td>\n    </tr>\n  </tbody>\n</table>\n</div>"
     },
     "execution_count": 46,
     "metadata": {},
     "output_type": "execute_result"
    }
   ],
   "source": [
    "import numpy as np\n",
    "from sklearn.preprocessing import MinMaxScaler\n",
    "\n",
    "\n",
    "scaler = MinMaxScaler()\n",
    "dfTest = pd.DataFrame({'A':[14.00,90.20,90.95,96.27,91.21],\n",
    " 'B':[103.02,107.26,110.35,114.23,114.68],\n",
    " 'C':['big','small','big','small','small']})\n",
    "\n",
    "dfTest[['A', 'B']] = scaler.fit_transform(dfTest[['A', 'B']])\n",
    "dfTest"
   ],
   "metadata": {
    "collapsed": false,
    "ExecuteTime": {
     "end_time": "2024-03-09T20:04:31.811077100Z",
     "start_time": "2024-03-09T20:04:31.683287700Z"
    }
   },
   "id": "9da2e18b2daeafa2"
  },
  {
   "cell_type": "markdown",
   "source": [
    "**3.3.2 Задание**\n",
    "Загрузить фрейм данных по ссылке:\n",
    "https://raw.githubusercontent.com/akmand/datasets/master/iris.csv.\n",
    "Необходимо выполнить нормализацию первого числового признака \n",
    "(sepal_length_cm) с использованием минимаксного преобразования, а \n",
    "второго (sepal_width_cm) с задействованием z-масштабирования"
   ],
   "metadata": {
    "collapsed": false
   },
   "id": "2c4fcf809f5bf89c"
  },
  {
   "cell_type": "code",
   "execution_count": 50,
   "outputs": [
    {
     "data": {
      "text/plain": "     sepal_length_cm  sepal_width_cm  petal_length_cm  petal_width_cm  \\\n0           0.222222        1.032057              1.4             0.2   \n1           0.166667       -0.124958              1.4             0.2   \n2           0.111111        0.337848              1.3             0.2   \n3           0.083333        0.106445              1.5             0.2   \n4           0.194444        1.263460              1.4             0.2   \n..               ...             ...              ...             ...   \n145         0.666667       -0.124958              5.2             2.3   \n146         0.555556       -1.281972              5.0             1.9   \n147         0.611111       -0.124958              5.2             2.0   \n148         0.527778        0.800654              5.4             2.3   \n149         0.444444       -0.124958              5.1             1.8   \n\n       species  \n0       setosa  \n1       setosa  \n2       setosa  \n3       setosa  \n4       setosa  \n..         ...  \n145  virginica  \n146  virginica  \n147  virginica  \n148  virginica  \n149  virginica  \n\n[150 rows x 5 columns]",
      "text/html": "<div>\n<style scoped>\n    .dataframe tbody tr th:only-of-type {\n        vertical-align: middle;\n    }\n\n    .dataframe tbody tr th {\n        vertical-align: top;\n    }\n\n    .dataframe thead th {\n        text-align: right;\n    }\n</style>\n<table border=\"1\" class=\"dataframe\">\n  <thead>\n    <tr style=\"text-align: right;\">\n      <th></th>\n      <th>sepal_length_cm</th>\n      <th>sepal_width_cm</th>\n      <th>petal_length_cm</th>\n      <th>petal_width_cm</th>\n      <th>species</th>\n    </tr>\n  </thead>\n  <tbody>\n    <tr>\n      <th>0</th>\n      <td>0.222222</td>\n      <td>1.032057</td>\n      <td>1.4</td>\n      <td>0.2</td>\n      <td>setosa</td>\n    </tr>\n    <tr>\n      <th>1</th>\n      <td>0.166667</td>\n      <td>-0.124958</td>\n      <td>1.4</td>\n      <td>0.2</td>\n      <td>setosa</td>\n    </tr>\n    <tr>\n      <th>2</th>\n      <td>0.111111</td>\n      <td>0.337848</td>\n      <td>1.3</td>\n      <td>0.2</td>\n      <td>setosa</td>\n    </tr>\n    <tr>\n      <th>3</th>\n      <td>0.083333</td>\n      <td>0.106445</td>\n      <td>1.5</td>\n      <td>0.2</td>\n      <td>setosa</td>\n    </tr>\n    <tr>\n      <th>4</th>\n      <td>0.194444</td>\n      <td>1.263460</td>\n      <td>1.4</td>\n      <td>0.2</td>\n      <td>setosa</td>\n    </tr>\n    <tr>\n      <th>...</th>\n      <td>...</td>\n      <td>...</td>\n      <td>...</td>\n      <td>...</td>\n      <td>...</td>\n    </tr>\n    <tr>\n      <th>145</th>\n      <td>0.666667</td>\n      <td>-0.124958</td>\n      <td>5.2</td>\n      <td>2.3</td>\n      <td>virginica</td>\n    </tr>\n    <tr>\n      <th>146</th>\n      <td>0.555556</td>\n      <td>-1.281972</td>\n      <td>5.0</td>\n      <td>1.9</td>\n      <td>virginica</td>\n    </tr>\n    <tr>\n      <th>147</th>\n      <td>0.611111</td>\n      <td>-0.124958</td>\n      <td>5.2</td>\n      <td>2.0</td>\n      <td>virginica</td>\n    </tr>\n    <tr>\n      <th>148</th>\n      <td>0.527778</td>\n      <td>0.800654</td>\n      <td>5.4</td>\n      <td>2.3</td>\n      <td>virginica</td>\n    </tr>\n    <tr>\n      <th>149</th>\n      <td>0.444444</td>\n      <td>-0.124958</td>\n      <td>5.1</td>\n      <td>1.8</td>\n      <td>virginica</td>\n    </tr>\n  </tbody>\n</table>\n<p>150 rows × 5 columns</p>\n</div>"
     },
     "execution_count": 50,
     "metadata": {},
     "output_type": "execute_result"
    }
   ],
   "source": [
    "import pandas as pd\n",
    "from sklearn.preprocessing import MinMaxScaler, StandardScaler\n",
    "\n",
    "\n",
    "url = \"https://raw.githubusercontent.com/akmand/datasets/master/iris.csv\"\n",
    "data = pd.read_csv(url)\n",
    "\n",
    "minmaxscaler = MinMaxScaler()\n",
    "scaler = StandardScaler()\n",
    "\n",
    "# Нормализация первого признака (sepal_length_cm) с использованием минимаксного преобразования\n",
    "data['sepal_length_cm'] = minmaxscaler.fit_transform(data[['sepal_length_cm']])\n",
    "\n",
    "# Нормализация второго признака (sepal_width_cm) с использованием z-масштабирования\n",
    "data['sepal_width_cm'] = scaler.fit_transform(data[['sepal_width_cm']])\n",
    "\n",
    "data"
   ],
   "metadata": {
    "collapsed": false,
    "ExecuteTime": {
     "end_time": "2024-03-09T20:11:07.463707400Z",
     "start_time": "2024-03-09T20:11:07.327674Z"
    }
   },
   "id": "ab419633f4387cc8"
  },
  {
   "cell_type": "code",
   "execution_count": null,
   "outputs": [],
   "source": [],
   "metadata": {
    "collapsed": false
   },
   "id": "cfc2f921c922369d"
  }
 ],
 "metadata": {
  "kernelspec": {
   "display_name": "Python 3",
   "language": "python",
   "name": "python3"
  },
  "language_info": {
   "codemirror_mode": {
    "name": "ipython",
    "version": 2
   },
   "file_extension": ".py",
   "mimetype": "text/x-python",
   "name": "python",
   "nbconvert_exporter": "python",
   "pygments_lexer": "ipython2",
   "version": "2.7.6"
  }
 },
 "nbformat": 4,
 "nbformat_minor": 5
}
